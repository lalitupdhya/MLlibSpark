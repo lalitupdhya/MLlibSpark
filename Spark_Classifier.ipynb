{
  "nbformat": 4,
  "nbformat_minor": 0,
  "metadata": {
    "colab": {
      "name": "Spark_Classifier",
      "provenance": [],
      "collapsed_sections": []
    },
    "kernelspec": {
      "name": "python3",
      "display_name": "Python 3"
    }
  },
  "cells": [
    {
      "cell_type": "markdown",
      "metadata": {
        "id": "6EhXTV-fJN2e"
      },
      "source": [
        "**Importing Necessary Libraries**"
      ]
    },
    {
      "cell_type": "code",
      "metadata": {
        "id": "MZe1t9twK3L8"
      },
      "source": [
        "!pip -q install pyspark #installing pyspark"
      ],
      "execution_count": null,
      "outputs": []
    },
    {
      "cell_type": "code",
      "metadata": {
        "id": "bI1HYxpXH_F6"
      },
      "source": [
        "import os\n",
        "from pyspark.sql import SparkSession\n",
        "from pyspark.sql.functions import *\n",
        "from pyspark.sql.types import IntegerType, FloatType\n",
        "from pyspark.ml import Pipeline\n",
        "from pyspark.ml.feature import StringIndexer, VectorAssembler, StandardScaler, MinMaxScaler, OneHotEncoder, FeatureHasher, Imputer, PolynomialExpansion\n",
        "from pyspark.ml.classification import LogisticRegression\n",
        "from pyspark.ml.evaluation import MulticlassClassificationEvaluator"
      ],
      "execution_count": null,
      "outputs": []
    },
    {
      "cell_type": "markdown",
      "metadata": {
        "id": "eOTYlyqaJSvD"
      },
      "source": [
        "**Acquiring Data**"
      ]
    },
    {
      "cell_type": "code",
      "metadata": {
        "colab": {
          "base_uri": "https://localhost:8080/"
        },
        "id": "K9wN4SQvHeaR",
        "outputId": "15a66cf7-1a21-4c7c-a47a-0cbaf121169e"
      },
      "source": [
        "#procedure to download kaggle datasets to google drive\n",
        "os.environ['KAGGLE_USERNAME'] = \"lalit871\" # username from the json file\n",
        "os.environ['KAGGLE_KEY'] = \"b44f57be0b3e13d58bcf61e93baab8a9\" # key from the json file\n",
        "\n",
        "%cd /content/drive/MyDrive/bigData\n",
        "\n",
        "!kaggle datasets download -d arashnic/hr-analytics-job-change-of-data-scientists"
      ],
      "execution_count": null,
      "outputs": [
        {
          "output_type": "stream",
          "text": [
            "/content/drive/MyDrive/bigData\n",
            "Downloading hr-analytics-job-change-of-data-scientists.zip to /content/drive/MyDrive/bigData\n",
            "  0% 0.00/295k [00:00<?, ?B/s]\n",
            "100% 295k/295k [00:00<00:00, 20.1MB/s]\n"
          ],
          "name": "stdout"
        }
      ]
    },
    {
      "cell_type": "code",
      "metadata": {
        "id": "C2yLd_VuHEc1"
      },
      "source": [
        "!unzip -q  hr-analytics-job-change-of-data-scientists.zip # unzipping zip file"
      ],
      "execution_count": null,
      "outputs": []
    },
    {
      "cell_type": "markdown",
      "metadata": {
        "id": "rPGMFOa7JZUc"
      },
      "source": [
        "**Importing Data**"
      ]
    },
    {
      "cell_type": "code",
      "metadata": {
        "id": "kf7wLzdFHdXl"
      },
      "source": [
        "dataPath = '/content/drive/MyDrive/bigData/aug_train.csv' # declaring the path of th data"
      ],
      "execution_count": null,
      "outputs": []
    },
    {
      "cell_type": "code",
      "metadata": {
        "id": "PXLnQWiUJ7B6"
      },
      "source": [
        "sc = SparkSession.builder.master('local').appName('LogisticHR').getOrCreate() #starting a spark session"
      ],
      "execution_count": null,
      "outputs": []
    },
    {
      "cell_type": "code",
      "metadata": {
        "colab": {
          "base_uri": "https://localhost:8080/"
        },
        "id": "fq1ofKqEKBRI",
        "outputId": "aba56a0c-c63f-4b42-bea5-5a18287f0b08"
      },
      "source": [
        "df = sc.read.csv(dataPath, inferSchema=True, header=True) # reading csv file\n",
        "df.show(5) # first five rows"
      ],
      "execution_count": null,
      "outputs": [
        {
          "output_type": "stream",
          "text": [
            "+-----------+--------+----------------------+------+--------------------+-------------------+---------------+----------------+----------+------------+--------------+------------+--------------+------+\n",
            "|enrollee_id|    city|city_development_index|gender| relevent_experience|enrolled_university|education_level|major_discipline|experience|company_size|  company_type|last_new_job|training_hours|target|\n",
            "+-----------+--------+----------------------+------+--------------------+-------------------+---------------+----------------+----------+------------+--------------+------------+--------------+------+\n",
            "|       8949|city_103|                  0.92|  Male|Has relevent expe...|      no_enrollment|       Graduate|            STEM|       >20|        null|          null|           1|            36|   1.0|\n",
            "|      29725| city_40|    0.7759999999999999|  Male|No relevent exper...|      no_enrollment|       Graduate|            STEM|        15|       50-99|       Pvt Ltd|          >4|            47|   0.0|\n",
            "|      11561| city_21|                 0.624|  null|No relevent exper...|   Full time course|       Graduate|            STEM|         5|        null|          null|       never|            83|   0.0|\n",
            "|      33241|city_115|                 0.789|  null|No relevent exper...|               null|       Graduate| Business Degree|        <1|        null|       Pvt Ltd|       never|            52|   1.0|\n",
            "|        666|city_162|                 0.767|  Male|Has relevent expe...|      no_enrollment|        Masters|            STEM|       >20|       50-99|Funded Startup|           4|             8|   0.0|\n",
            "+-----------+--------+----------------------+------+--------------------+-------------------+---------------+----------------+----------+------------+--------------+------------+--------------+------+\n",
            "only showing top 5 rows\n",
            "\n"
          ],
          "name": "stdout"
        }
      ]
    },
    {
      "cell_type": "code",
      "metadata": {
        "colab": {
          "base_uri": "https://localhost:8080/"
        },
        "id": "xb9nMc2IKFre",
        "outputId": "b50a9598-50f7-44e4-9227-7460680f9fac"
      },
      "source": [
        "df.printSchema() # schema of the dataset"
      ],
      "execution_count": null,
      "outputs": [
        {
          "output_type": "stream",
          "text": [
            "root\n",
            " |-- enrollee_id: integer (nullable = true)\n",
            " |-- city: string (nullable = true)\n",
            " |-- city_development_index: double (nullable = true)\n",
            " |-- gender: string (nullable = true)\n",
            " |-- relevent_experience: string (nullable = true)\n",
            " |-- enrolled_university: string (nullable = true)\n",
            " |-- education_level: string (nullable = true)\n",
            " |-- major_discipline: string (nullable = true)\n",
            " |-- experience: string (nullable = true)\n",
            " |-- company_size: string (nullable = true)\n",
            " |-- company_type: string (nullable = true)\n",
            " |-- last_new_job: string (nullable = true)\n",
            " |-- training_hours: integer (nullable = true)\n",
            " |-- target: double (nullable = true)\n",
            "\n"
          ],
          "name": "stdout"
        }
      ]
    },
    {
      "cell_type": "code",
      "metadata": {
        "colab": {
          "base_uri": "https://localhost:8080/"
        },
        "id": "yrzO0B8_Kcos",
        "outputId": "592332d3-641b-45c9-a6a8-3c3c31e0780a"
      },
      "source": [
        "df.describe().show() #summary statistics of the dataset\n",
        "# Here we can also see that 19158 is the total number of rows and columns having values less than that number have missing values which we will impute in the below cells."
      ],
      "execution_count": null,
      "outputs": [
        {
          "output_type": "stream",
          "text": [
            "+-------+------------------+-------+----------------------+------+--------------------+-------------------+---------------+----------------+-----------------+------------+-------------------+------------------+-----------------+-------------------+\n",
            "|summary|       enrollee_id|   city|city_development_index|gender| relevent_experience|enrolled_university|education_level|major_discipline|       experience|company_size|       company_type|      last_new_job|   training_hours|             target|\n",
            "+-------+------------------+-------+----------------------+------+--------------------+-------------------+---------------+----------------+-----------------+------------+-------------------+------------------+-----------------+-------------------+\n",
            "|  count|             19158|  19158|                 19158| 14650|               19158|              18772|          18698|           16345|            19093|       13220|              13018|             18735|            19158|              19158|\n",
            "|   mean|16875.358179350664|   null|    0.8288480008351684|  null|                null|               null|           null|            null|8.101799149492967|        null|               null| 1.618409913030093|65.36689633573442|0.24934753105752167|\n",
            "| stddev| 9616.292592160924|   null|   0.12336175686054515|  null|                null|               null|           null|            null|4.934599764055633|        null|               null|0.9321202932740219|60.05846192467765|0.43264663445625307|\n",
            "|    min|                 1| city_1|   0.44799999999999995|Female|Has relevent expe...|   Full time course|       Graduate|            Arts|                1|       10/49|Early Stage Startup|                 1|                1|                0.0|\n",
            "|    max|             33380|city_99|    0.9490000000000001| Other|No relevent exper...|      no_enrollment| Primary School|            STEM|              >20|         <10|            Pvt Ltd|             never|              336|                1.0|\n",
            "+-------+------------------+-------+----------------------+------+--------------------+-------------------+---------------+----------------+-----------------+------------+-------------------+------------------+-----------------+-------------------+\n",
            "\n"
          ],
          "name": "stdout"
        }
      ]
    },
    {
      "cell_type": "code",
      "metadata": {
        "colab": {
          "base_uri": "https://localhost:8080/"
        },
        "id": "DGhRkgfS7aW2",
        "outputId": "a7fc0247-0f12-4c81-8fd7-d839b70d5acc"
      },
      "source": [
        "# checking the count of various values of major_discipline\n",
        "df.groupBy(\"major_discipline\").count().orderBy('count', ascending=False).show()"
      ],
      "execution_count": null,
      "outputs": [
        {
          "output_type": "stream",
          "text": [
            "+----------------+-----+\n",
            "|major_discipline|count|\n",
            "+----------------+-----+\n",
            "|            STEM|14492|\n",
            "|            null| 2813|\n",
            "|      Humanities|  669|\n",
            "|           Other|  381|\n",
            "| Business Degree|  327|\n",
            "|            Arts|  253|\n",
            "|        No Major|  223|\n",
            "+----------------+-----+\n",
            "\n"
          ],
          "name": "stdout"
        }
      ]
    },
    {
      "cell_type": "code",
      "metadata": {
        "colab": {
          "base_uri": "https://localhost:8080/"
        },
        "id": "DZuKAJX1Dnnt",
        "outputId": "75fa127b-3885-4dfd-de62-c03c88418c60"
      },
      "source": [
        "# checking the count of various values of gender\n",
        "df.groupBy(\"gender\").count().orderBy('count', ascending=False).show()"
      ],
      "execution_count": null,
      "outputs": [
        {
          "output_type": "stream",
          "text": [
            "+------+-----+\n",
            "|gender|count|\n",
            "+------+-----+\n",
            "|  Male|13221|\n",
            "|  null| 4508|\n",
            "|Female| 1238|\n",
            "| Other|  191|\n",
            "+------+-----+\n",
            "\n"
          ],
          "name": "stdout"
        }
      ]
    },
    {
      "cell_type": "code",
      "metadata": {
        "colab": {
          "base_uri": "https://localhost:8080/"
        },
        "id": "6mgGT9SqDIbd",
        "outputId": "f9a89c1a-f3d2-4744-cf1c-94a9e1ab83e5"
      },
      "source": [
        "# checking the count of various values of company_type\n",
        "df.groupBy(\"company_type\").count().orderBy('count', ascending=False).show()"
      ],
      "execution_count": null,
      "outputs": [
        {
          "output_type": "stream",
          "text": [
            "+-------------------+-----+\n",
            "|       company_type|count|\n",
            "+-------------------+-----+\n",
            "|            Pvt Ltd| 9817|\n",
            "|               null| 6140|\n",
            "|     Funded Startup| 1001|\n",
            "|      Public Sector|  955|\n",
            "|Early Stage Startup|  603|\n",
            "|                NGO|  521|\n",
            "|              Other|  121|\n",
            "+-------------------+-----+\n",
            "\n"
          ],
          "name": "stdout"
        }
      ]
    },
    {
      "cell_type": "code",
      "metadata": {
        "colab": {
          "base_uri": "https://localhost:8080/"
        },
        "id": "7YmUrmyQDutC",
        "outputId": "096c79c6-af57-415e-a9f0-075ac21a59b0"
      },
      "source": [
        "# checking the count of various values of company_size\n",
        "df.groupBy(\"company_size\").count().orderBy('count', ascending=False).show()"
      ],
      "execution_count": null,
      "outputs": [
        {
          "output_type": "stream",
          "text": [
            "+------------+-----+\n",
            "|company_size|count|\n",
            "+------------+-----+\n",
            "|        null| 5938|\n",
            "|       50-99| 3083|\n",
            "|     100-500| 2571|\n",
            "|      10000+| 2019|\n",
            "|       10/49| 1471|\n",
            "|   1000-4999| 1328|\n",
            "|         <10| 1308|\n",
            "|     500-999|  877|\n",
            "|   5000-9999|  563|\n",
            "+------------+-----+\n",
            "\n"
          ],
          "name": "stdout"
        }
      ]
    },
    {
      "cell_type": "code",
      "metadata": {
        "colab": {
          "base_uri": "https://localhost:8080/"
        },
        "id": "jk-C7veNOyS9",
        "outputId": "a8bc47c3-d4f7-44c3-9725-795c48e6d196"
      },
      "source": [
        "df.groupby('target').count().show() # checking the balance of the class which will help while playing around with the threshold of the model"
      ],
      "execution_count": null,
      "outputs": [
        {
          "output_type": "stream",
          "text": [
            "+------+-----+\n",
            "|target|count|\n",
            "+------+-----+\n",
            "|   0.0|14381|\n",
            "|   1.0| 4777|\n",
            "+------+-----+\n",
            "\n"
          ],
          "name": "stdout"
        }
      ]
    },
    {
      "cell_type": "markdown",
      "metadata": {
        "id": "KEEb-LA7DZIY"
      },
      "source": [
        "Columns gender, company_size, company_type and major discpline have very big number of missing values. Dropping the null values to continue further."
      ]
    },
    {
      "cell_type": "code",
      "metadata": {
        "colab": {
          "base_uri": "https://localhost:8080/"
        },
        "id": "IiwuYZCPLEkX",
        "outputId": "658142dd-294a-4803-ad08-0d6a34f8d2bd"
      },
      "source": [
        "# dropping the null values\n",
        "df = df.dropna()\n",
        "df.describe().show()"
      ],
      "execution_count": null,
      "outputs": [
        {
          "output_type": "stream",
          "text": [
            "+-------+------------------+-------+----------------------+------+--------------------+-------------------+---------------+----------------+-----------------+------------+-------------------+------------------+-----------------+-------------------+\n",
            "|summary|       enrollee_id|   city|city_development_index|gender| relevent_experience|enrolled_university|education_level|major_discipline|       experience|company_size|       company_type|      last_new_job|   training_hours|             target|\n",
            "+-------+------------------+-------+----------------------+------+--------------------+-------------------+---------------+----------------+-----------------+------------+-------------------+------------------+-----------------+-------------------+\n",
            "|  count|              8955|   8955|                  8955|  8955|                8955|               8955|           8955|            8955|             8955|        8955|               8955|              8955|             8955|               8955|\n",
            "|   mean|16869.638749302067|   null|    0.8445699609156874|  null|                null|               null|           null|            null|9.272753332377812|        null|               null|1.6932144476348798| 65.0749302065885|0.16560580681183695|\n",
            "| stddev| 9963.804717840223|   null|   0.11617790715612765|  null|                null|               null|           null|            null|4.887231045775749|        null|               null|0.9697063007211112|60.23508662104467|0.37174716653873635|\n",
            "|    min|                 2| city_1|   0.44799999999999995|Female|Has relevent expe...|   Full time course|       Graduate|            Arts|                1|       10/49|Early Stage Startup|                 1|                1|                0.0|\n",
            "|    max|             33380|city_99|    0.9490000000000001| Other|No relevent exper...|      no_enrollment|            Phd|            STEM|              >20|         <10|            Pvt Ltd|             never|              336|                1.0|\n",
            "+-------+------------------+-------+----------------------+------+--------------------+-------------------+---------------+----------------+-----------------+------------+-------------------+------------------+-----------------+-------------------+\n",
            "\n"
          ],
          "name": "stdout"
        }
      ]
    },
    {
      "cell_type": "code",
      "metadata": {
        "colab": {
          "base_uri": "https://localhost:8080/"
        },
        "id": "FDMQ8J4-Lcrb",
        "outputId": "dff8f82f-61d5-44e9-eaaa-9d87e56bc51b"
      },
      "source": [
        "# after dropping the null values class imbalance has become worse\n",
        "# count of data has also reduced by almost half\n",
        "df.groupby('target').count().show()"
      ],
      "execution_count": null,
      "outputs": [
        {
          "output_type": "stream",
          "text": [
            "+------+-----+\n",
            "|target|count|\n",
            "+------+-----+\n",
            "|   0.0| 7472|\n",
            "|   1.0| 1483|\n",
            "+------+-----+\n",
            "\n"
          ],
          "name": "stdout"
        }
      ]
    },
    {
      "cell_type": "markdown",
      "metadata": {
        "id": "nult_y3ptcsy"
      },
      "source": [
        "**String Indexer**"
      ]
    },
    {
      "cell_type": "code",
      "metadata": {
        "id": "XvK31qofRPfx"
      },
      "source": [
        "cols = ['city', 'gender', 'relevent_experience', 'enrolled_university', 'education_level', 'major_discipline', 'experience', 'company_size', 'company_type', 'last_new_job']\n",
        "\n",
        "# looping through the categorical columns of the dataset to use string Indexer \n",
        "stages = [] # to store the string indexer and vector assembler stages\n",
        "for col in cols:\n",
        "    strIndex = StringIndexer(inputCol=col, outputCol=col+\"Ind\")\n",
        "    stages = stages + [strIndex]"
      ],
      "execution_count": null,
      "outputs": []
    },
    {
      "cell_type": "markdown",
      "metadata": {
        "id": "wFob9Jyetvzl"
      },
      "source": [
        "**Vector Assenbler**"
      ]
    },
    {
      "cell_type": "code",
      "metadata": {
        "id": "B_sKcyqoSvD5"
      },
      "source": [
        "colV = ['city_development_index' , 'training_hours']\n",
        "\n",
        "# using the string Indexed columns to create features using vector assembler\n",
        "inpV = [k+\"Ind\" for k in cols] + colV\n",
        "assembler = VectorAssembler(inputCols=inpV, outputCol=\"features\")\n",
        "stages = stages + [assembler]"
      ],
      "execution_count": null,
      "outputs": []
    },
    {
      "cell_type": "markdown",
      "metadata": {
        "id": "a0KaykfRt7zE"
      },
      "source": [
        "**Creating Pipeline**"
      ]
    },
    {
      "cell_type": "code",
      "metadata": {
        "id": "87SicKhnS3R9"
      },
      "source": [
        "pipeline = Pipeline(stages = stages) # using the earlier defined stages\n",
        "pipelineModel = pipeline.fit(df)\n",
        "transformed_df = pipelineModel.transform(df)"
      ],
      "execution_count": null,
      "outputs": []
    },
    {
      "cell_type": "markdown",
      "metadata": {
        "id": "MahWKjpmuXPQ"
      },
      "source": [
        "**Polynomial Expansion**"
      ]
    },
    {
      "cell_type": "code",
      "metadata": {
        "id": "fzWm3S3bWckt"
      },
      "source": [
        "polyExpansion = PolynomialExpansion(degree=2, inputCol=\"features\", outputCol=\"polyFeatures\") # degree 2 gave the best results\n",
        "poly_feature_dataframe = polyExpansion.transform(transformed_df)"
      ],
      "execution_count": null,
      "outputs": []
    },
    {
      "cell_type": "code",
      "metadata": {
        "colab": {
          "base_uri": "https://localhost:8080/"
        },
        "id": "PnmBPUhHqac6",
        "outputId": "f364b9a6-179f-47c9-e4f1-e21e3318f626"
      },
      "source": [
        "poly_feature_dataframe.select('polyFeatures').show(10) # expanded the features from 12 to 90 (2n + nC2)"
      ],
      "execution_count": null,
      "outputs": [
        {
          "output_type": "stream",
          "text": [
            "+--------------------+\n",
            "|        polyFeatures|\n",
            "+--------------------+\n",
            "|(90,[0,1,5,6,8,27...|\n",
            "|(90,[0,1,14,15,19...|\n",
            "|(90,[0,1,27,28,34...|\n",
            "|(90,[27,34,65,72,...|\n",
            "|(90,[27,34,35,42,...|\n",
            "|(90,[0,1,35,36,43...|\n",
            "|(90,[0,1,27,28,34...|\n",
            "|(90,[0,1,14,15,19...|\n",
            "|[3.0,9.0,0.0,0.0,...|\n",
            "|(90,[0,1,20,21,26...|\n",
            "+--------------------+\n",
            "only showing top 10 rows\n",
            "\n"
          ],
          "name": "stdout"
        }
      ]
    },
    {
      "cell_type": "markdown",
      "metadata": {
        "id": "zWBgV3M5u0Zj"
      },
      "source": [
        "**Fitting the data**"
      ]
    },
    {
      "cell_type": "code",
      "metadata": {
        "id": "J9sG1Y7FkRnB"
      },
      "source": [
        "train, test = poly_feature_dataframe.randomSplit([0.8, 0.2], seed = 40) # splitting the data in the ratio 80:20\n",
        "\n",
        "# using standardisation and threshold=0.4 gave the best results\n",
        "# since class 0 are very high in number hence lowering the threshold to 0.4 helped to increase the recall value.\n",
        "lr = LogisticRegression(featuresCol = 'polyFeatures', labelCol = 'target', maxIter=10, standardization=True, threshold=0.4)\n",
        "lrModel = lr.fit(train)\n",
        "\n",
        "predictions = lrModel.transform(test)"
      ],
      "execution_count": null,
      "outputs": []
    },
    {
      "cell_type": "markdown",
      "metadata": {
        "id": "vnvZ9LQIvWfd"
      },
      "source": [
        "**Evaluation**"
      ]
    },
    {
      "cell_type": "markdown",
      "metadata": {
        "id": "79u2OHy-v_5p"
      },
      "source": [
        "f1 score is the harmonic mean of precision and recall hence penalises the score if false positives are more."
      ]
    },
    {
      "cell_type": "code",
      "metadata": {
        "colab": {
          "base_uri": "https://localhost:8080/"
        },
        "id": "_ZRWIHtQvLz8",
        "outputId": "3be4546e-c346-4faa-e649-c6265f802943"
      },
      "source": [
        "# evaluating using two metrics, accuracy and f1 score\n",
        "eval = MulticlassClassificationEvaluator(labelCol=\"target\", predictionCol=\"prediction\",metricName='accuracy')\n",
        "print('Accuracy: ', eval.evaluate(predictions))\n",
        "\n",
        "print('F1 score: ', eval.evaluate(predictions, {eval.metricName: \"f1\"}))"
      ],
      "execution_count": null,
      "outputs": [
        {
          "output_type": "stream",
          "text": [
            "Accuracy:  0.8552338530066815\n",
            "F1 score:  0.8502745460429203\n"
          ],
          "name": "stdout"
        }
      ]
    },
    {
      "cell_type": "markdown",
      "metadata": {
        "id": "zTiTQOYoxC-Q"
      },
      "source": [
        "**Using Feature Hasher**"
      ]
    },
    {
      "cell_type": "code",
      "metadata": {
        "id": "TcgYRmOaYS17"
      },
      "source": [
        "#using 6 columns gave the best result\n",
        "hasher = FeatureHasher(numFeatures=6,inputCols=['city','city_development_index','gender','relevent_experience','enrolled_university','education_level',\n",
        "                                                'major_discipline', 'experience', 'company_size', 'company_type','last_new_job','training_hours'],\n",
        "                                                         outputCol=\"features\")\n",
        "\n",
        "hashed_dataset = hasher.transform(df) # transforming the dataset"
      ],
      "execution_count": null,
      "outputs": []
    },
    {
      "cell_type": "code",
      "metadata": {
        "id": "yNOy2TXFiZXk"
      },
      "source": [
        "train, test = hashed_dataset.randomSplit([0.8, 0.2], seed = 40) # splitting data in the ratio 80:20"
      ],
      "execution_count": null,
      "outputs": []
    },
    {
      "cell_type": "code",
      "metadata": {
        "id": "RVn0HOZoinGh"
      },
      "source": [
        "#fitting the training data\n",
        "lr = LogisticRegression(featuresCol = 'features', labelCol = 'target', maxIter=10)\n",
        "lrModel = lr.fit(train)"
      ],
      "execution_count": null,
      "outputs": []
    },
    {
      "cell_type": "code",
      "metadata": {
        "id": "ZXoAAZG9zaPB"
      },
      "source": [
        "predictions = lrModel.transform(test) # predicting using trained model"
      ],
      "execution_count": null,
      "outputs": []
    },
    {
      "cell_type": "code",
      "metadata": {
        "colab": {
          "base_uri": "https://localhost:8080/"
        },
        "id": "sx44bp49iw5h",
        "outputId": "8b03da21-a8c5-40be-b7d8-bd629e3df7bf"
      },
      "source": [
        "# evaluating results using f1 score and accuracy\n",
        "\n",
        "eval = MulticlassClassificationEvaluator(labelCol=\"target\", predictionCol=\"prediction\",metricName='accuracy')\n",
        "print('Accuracy: ', eval.evaluate(predictions))\n",
        "\n",
        "print('F1 score: ', eval.evaluate(predictions, {eval.metricName: \"f1\"}))"
      ],
      "execution_count": null,
      "outputs": [
        {
          "output_type": "stream",
          "text": [
            "Accuracy:  0.8335189309576837\n",
            "F1 score:  0.7654409466648603\n"
          ],
          "name": "stdout"
        }
      ]
    },
    {
      "cell_type": "markdown",
      "metadata": {
        "id": "Ps6L5bxDrtnf"
      },
      "source": [
        "**Experiment Results**"
      ]
    },
    {
      "cell_type": "code",
      "metadata": {
        "id": "O378e0JTizmI"
      },
      "source": [
        "\n",
        "# without polynomial expansion\n",
        "# Accuracy:  0.839086859688196\n",
        "# F1 score:  0.795258555310815\n",
        "\n",
        "# polynomial degree = 2 and threshold =0.5\n",
        "# Accuracy:  0.8385300668151447\n",
        "# F1 score:  0.8120707239194876\n",
        "\n",
        "# polynomial degree = 2 and threshold =0.4\n",
        "# Accuracy:  0.8552338530066815\n",
        "# F1 score:  0.85027454604292036\n",
        "\n",
        "# polynomial degree = 3\n",
        "# Accuracy:  0.8368596881959911\n",
        "# F1 score:  0.8048871364559362\n",
        "\n",
        "# Feature Hasher, num columns = 6\n",
        "# Accuracy:  0.8335189309576837\n",
        "# F1 score:  0.7654409466648603\n",
        "\n",
        "# Feature Hasher, num columns = 5\n",
        "# Accuracy:  0.8340757238307349\n",
        "# F1 score:  0.7586189643584947"
      ],
      "execution_count": null,
      "outputs": []
    }
  ]
}