{
  "nbformat": 4,
  "nbformat_minor": 0,
  "metadata": {
    "colab": {
      "name": "Regression_Spark.ipynb",
      "provenance": [],
      "collapsed_sections": []
    },
    "kernelspec": {
      "name": "python3",
      "display_name": "Python 3"
    }
  },
  "cells": [
    {
      "cell_type": "markdown",
      "metadata": {
        "id": "sYX8QL2k0fZT"
      },
      "source": [
        "#### Installing required libraries and declaring them"
      ]
    },
    {
      "cell_type": "code",
      "metadata": {
        "id": "5QFAhNnwHcj0"
      },
      "source": [
        "!pip -q install pyspark"
      ],
      "execution_count": null,
      "outputs": []
    },
    {
      "cell_type": "code",
      "metadata": {
        "id": "CU-E91vhAhrK"
      },
      "source": [
        "from pyspark.sql import SparkSession\n",
        "from pyspark.sql.functions import *\n",
        "from pyspark.sql.types import IntegerType, FloatType\n",
        "from pyspark.ml.feature import StringIndexer, VectorAssembler, StandardScaler\n",
        "from pyspark.ml.regression import LinearRegression\n",
        "from pyspark.ml.evaluation import Evaluator, RegressionEvaluator\n",
        "import os"
      ],
      "execution_count": null,
      "outputs": []
    },
    {
      "cell_type": "markdown",
      "metadata": {
        "id": "ED2nyiDfnR-4"
      },
      "source": [
        "#### Fetching Data from Kaggle"
      ]
    },
    {
      "cell_type": "code",
      "metadata": {
        "colab": {
          "base_uri": "https://localhost:8080/"
        },
        "id": "bGuPSwYTnYud",
        "outputId": "3a652f28-31eb-4625-b225-244b81aaf165"
      },
      "source": [
        "%cd '/content/drive/MyDrive/bigData'\n",
        "\n",
        "#procedure to download kaggle datasets to google drive\n",
        "os.environ['KAGGLE_USERNAME'] = \"lalit871\" # username from the json file\n",
        "os.environ['KAGGLE_KEY'] = \"ccd5bff8c4fc8368e3269b44bfaa2c86\" # key from the json file\n",
        "\n",
        "!kaggle datasets download -d nehalbirla/vehicle-dataset-from-cardekho"
      ],
      "execution_count": null,
      "outputs": [
        {
          "output_type": "stream",
          "text": [
            "/content/drive/MyDrive/bigData\n",
            "Downloading vehicle-dataset-from-cardekho.zip to /content/drive/MyDrive/bigData\n",
            "  0% 0.00/227k [00:00<?, ?B/s]\n",
            "100% 227k/227k [00:00<00:00, 15.2MB/s]\n"
          ],
          "name": "stdout"
        }
      ]
    },
    {
      "cell_type": "code",
      "metadata": {
        "id": "Yl3UiF0SoOcG"
      },
      "source": [
        "!unzip -q vehicle-dataset-from-cardekho.zip"
      ],
      "execution_count": null,
      "outputs": []
    },
    {
      "cell_type": "code",
      "metadata": {
        "id": "V9e4O9qPoWW3"
      },
      "source": [
        "dataPath = '/content/drive/MyDrive/bigData/Cardetailsv3.csv'"
      ],
      "execution_count": null,
      "outputs": []
    },
    {
      "cell_type": "markdown",
      "metadata": {
        "id": "WglwkTZjo95l"
      },
      "source": [
        "### Tasks\n",
        "#### Read the dataset into a PySpark Dataframe. "
      ]
    },
    {
      "cell_type": "code",
      "metadata": {
        "id": "5gWbnheJpGWw"
      },
      "source": [
        "sc = SparkSession.builder.master('local').appName('RegressionCarDekho').getOrCreate() #starting a spark session"
      ],
      "execution_count": null,
      "outputs": []
    },
    {
      "cell_type": "code",
      "metadata": {
        "colab": {
          "base_uri": "https://localhost:8080/"
        },
        "id": "eEaCnymrpmGT",
        "outputId": "23894dca-dbc8-4fe4-8de6-aae00907c87f"
      },
      "source": [
        ""
      ],
      "execution_count": null,
      "outputs": [
        {
          "output_type": "stream",
          "text": [
            "+--------------------+----+-------------+---------+------+-----------+------------+------------+----------+-------+----------+--------------------+-----+\n",
            "|                name|year|selling_price|km_driven|  fuel|seller_type|transmission|       owner|   mileage| engine| max_power|              torque|seats|\n",
            "+--------------------+----+-------------+---------+------+-----------+------------+------------+----------+-------+----------+--------------------+-----+\n",
            "|Maruti Swift Dzir...|2014|       450000|   145500|Diesel| Individual|      Manual| First Owner| 23.4 kmpl|1248 CC|    74 bhp|      190Nm@ 2000rpm|    5|\n",
            "|Skoda Rapid 1.5 T...|2014|       370000|   120000|Diesel| Individual|      Manual|Second Owner|21.14 kmpl|1498 CC|103.52 bhp| 250Nm@ 1500-2500rpm|    5|\n",
            "|Honda City 2017-2...|2006|       158000|   140000|Petrol| Individual|      Manual| Third Owner| 17.7 kmpl|1497 CC|    78 bhp|12.7@ 2,700(kgm@ ...|    5|\n",
            "|Hyundai i20 Sport...|2010|       225000|   127000|Diesel| Individual|      Manual| First Owner| 23.0 kmpl|1396 CC|    90 bhp|22.4 kgm at 1750-...|    5|\n",
            "|Maruti Swift VXI ...|2007|       130000|   120000|Petrol| Individual|      Manual| First Owner| 16.1 kmpl|1298 CC|  88.2 bhp|11.5@ 4,500(kgm@ ...|    5|\n",
            "|Hyundai Xcent 1.2...|2017|       440000|    45000|Petrol| Individual|      Manual| First Owner|20.14 kmpl|1197 CC| 81.86 bhp|   113.75nm@ 4000rpm|    5|\n",
            "|Maruti Wagon R LX...|2007|        96000|   175000|   LPG| Individual|      Manual| First Owner|17.3 km/kg|1061 CC|  57.5 bhp|7.8@ 4,500(kgm@ rpm)|    5|\n",
            "|  Maruti 800 DX BSII|2001|        45000|     5000|Petrol| Individual|      Manual|Second Owner| 16.1 kmpl| 796 CC|    37 bhp|       59Nm@ 2500rpm|    4|\n",
            "|    Toyota Etios VXD|2011|       350000|    90000|Diesel| Individual|      Manual| First Owner|23.59 kmpl|1364 CC|  67.1 bhp| 170Nm@ 1800-2400rpm|    5|\n",
            "|Ford Figo Diesel ...|2013|       200000|   169000|Diesel| Individual|      Manual| First Owner| 20.0 kmpl|1399 CC|  68.1 bhp|      160Nm@ 2000rpm|    5|\n",
            "+--------------------+----+-------------+---------+------+-----------+------------+------------+----------+-------+----------+--------------------+-----+\n",
            "only showing top 10 rows\n",
            "\n"
          ],
          "name": "stdout"
        }
      ]
    },
    {
      "cell_type": "code",
      "metadata": {
        "colab": {
          "base_uri": "https://localhost:8080/"
        },
        "id": "xR1GP-Hip6_q",
        "outputId": "89251a4c-7dc4-4844-943f-112050e22415"
      },
      "source": [
        "df.printSchema() # schema of the dataset"
      ],
      "execution_count": null,
      "outputs": [
        {
          "output_type": "stream",
          "text": [
            "root\n",
            " |-- name: string (nullable = true)\n",
            " |-- year: integer (nullable = true)\n",
            " |-- selling_price: integer (nullable = true)\n",
            " |-- km_driven: integer (nullable = true)\n",
            " |-- fuel: string (nullable = true)\n",
            " |-- seller_type: string (nullable = true)\n",
            " |-- transmission: string (nullable = true)\n",
            " |-- owner: string (nullable = true)\n",
            " |-- mileage: string (nullable = true)\n",
            " |-- engine: string (nullable = true)\n",
            " |-- max_power: string (nullable = true)\n",
            " |-- torque: string (nullable = true)\n",
            " |-- seats: integer (nullable = true)\n",
            "\n"
          ],
          "name": "stdout"
        }
      ]
    },
    {
      "cell_type": "code",
      "metadata": {
        "colab": {
          "base_uri": "https://localhost:8080/"
        },
        "id": "KdLpK1zCqE3X",
        "outputId": "4e374970-e1cf-4c4e-d193-c5870a784861"
      },
      "source": [
        "df.describe().show() #summary of the dataset to check for extreme values along with mean and standard deviation\n",
        "\n",
        "# Here we can also see that 8128 is the total number of rows and columns having values less than that number have missing values which we will impute in the below cells."
      ],
      "execution_count": null,
      "outputs": [
        {
          "output_type": "stream",
          "text": [
            "+-------+--------------------+------------------+-----------------+------------------+------+----------------+------------+-----------+--------+-------+---------+--------------------+----------------+\n",
            "|summary|                name|              year|    selling_price|         km_driven|  fuel|     seller_type|transmission|      owner| mileage| engine|max_power|              torque|           seats|\n",
            "+-------+--------------------+------------------+-----------------+------------------+------+----------------+------------+-----------+--------+-------+---------+--------------------+----------------+\n",
            "|  count|                8128|              8128|             8128|              8128|  8128|            8128|        8128|       8128|    7907|   7907|     7913|                7906|            7907|\n",
            "|   mean|                null|2013.8040108267717|638271.8077017716| 69819.51082677166|  null|            null|        null|       null|    null|   null|      0.0|                null|5.41671936259011|\n",
            "| stddev|                null| 4.044248753683651|806253.4035082327|56550.554958219276|  null|            null|        null|       null|    null|   null|      0.0|                null|0.95958752023399|\n",
            "|    min|Ambassador CLASSI...|              1983|            29999|                 1|   CNG|          Dealer|   Automatic|First Owner|0.0 kmpl|1047 CC|      bhp|10.2@ 2,600(kgm@ ...|               2|\n",
            "|    max|Volvo XC90 T8 Exc...|              2020|         10000000|           2360457|Petrol|Trustmark Dealer|      Manual|Third Owner|9.5 kmpl| 999 CC| 99.6 bhp|       99Nm@ 4500rpm|              14|\n",
            "+-------+--------------------+------------------+-----------------+------------------+------+----------------+------------+-----------+--------+-------+---------+--------------------+----------------+\n",
            "\n"
          ],
          "name": "stdout"
        }
      ]
    },
    {
      "cell_type": "markdown",
      "metadata": {
        "id": "dWZAEYcF1DqX"
      },
      "source": [
        "#### Extracting data from the columns CAR BRAND, MILEAGE, ENGINE, MAX_POWER, NAME, and TORQUE using regex."
      ]
    },
    {
      "cell_type": "code",
      "metadata": {
        "colab": {
          "base_uri": "https://localhost:8080/"
        },
        "id": "mZjC8_VZwSUr",
        "outputId": "05feb6b6-03ac-4072-a916-18e6d0b891ff"
      },
      "source": [
        "# \\d+ -> for 1 or more digit followed by \\.? 0 or 1 dot and \\d{1,2} 1 or 2 decimal values\n",
        "# for car brand extract first occurence of words which is brand name\n",
        "\n",
        "new_df = df.withColumn('mileage',regexp_extract('mileage', r'(\\d+\\.?\\d{1,2})',1))\n",
        "\n",
        "new_df = new_df.withColumn('engine',regexp_extract('engine', r'(\\d+)',1))\n",
        "\n",
        "new_df = new_df.withColumn('max_power',regexp_extract('max_power', r'(\\d+\\.?\\d{1,2})',1))\n",
        "\n",
        "new_df = new_df.withColumn('name',regexp_extract('name', r'(\\w+)',1))\n",
        "\n",
        "new_df = new_df.withColumn('torque',regexp_extract('torque', r'(\\d+\\.?\\d{1,2})',1))\n",
        "\n",
        "new_df = new_df.withColumn('num_years', 2021 - new_df['year']) # creating num_years column\n",
        "new_df = new_df.drop('year')\n",
        "new_df.show(5)"
      ],
      "execution_count": null,
      "outputs": [
        {
          "output_type": "stream",
          "text": [
            "+-------+-------------+---------+------+-----------+------------+------------+-------+------+---------+------+-----+---------+\n",
            "|   name|selling_price|km_driven|  fuel|seller_type|transmission|       owner|mileage|engine|max_power|torque|seats|num_years|\n",
            "+-------+-------------+---------+------+-----------+------------+------------+-------+------+---------+------+-----+---------+\n",
            "| Maruti|       450000|   145500|Diesel| Individual|      Manual| First Owner|   23.4|  1248|       74|   190|    5|        7|\n",
            "|  Skoda|       370000|   120000|Diesel| Individual|      Manual|Second Owner|  21.14|  1498|   103.52|   250|    5|        7|\n",
            "|  Honda|       158000|   140000|Petrol| Individual|      Manual| Third Owner|   17.7|  1497|       78|  12.7|    5|       15|\n",
            "|Hyundai|       225000|   127000|Diesel| Individual|      Manual| First Owner|   23.0|  1396|       90|  22.4|    5|       11|\n",
            "| Maruti|       130000|   120000|Petrol| Individual|      Manual| First Owner|   16.1|  1298|     88.2|  11.5|    5|       14|\n",
            "+-------+-------------+---------+------+-----------+------------+------------+-------+------+---------+------+-----+---------+\n",
            "only showing top 5 rows\n",
            "\n"
          ],
          "name": "stdout"
        }
      ]
    },
    {
      "cell_type": "code",
      "metadata": {
        "id": "nxQVDSCx62qP"
      },
      "source": [
        "# changing the datatype of the extracted columns to integer and float\n",
        "new_df_integer = new_df.withColumn('mileage', new_df['mileage'].cast(FloatType()))\n",
        "new_df_integer = new_df_integer.withColumn('engine',new_df_integer['engine'].cast(IntegerType()))\n",
        "new_df_integer = new_df_integer.withColumn('max_power', new_df_integer['max_power'].cast(FloatType()))\n",
        "new_df_integer = new_df_integer.withColumn('torque', new_df_integer['torque'].cast(FloatType()))"
      ],
      "execution_count": null,
      "outputs": []
    },
    {
      "cell_type": "markdown",
      "metadata": {
        "id": "LuAs5_et2YM2"
      },
      "source": [
        "#### Imputation of the missing values by calculating average for each brand and then using coalesce to substitute values for each of the imputed columns"
      ]
    },
    {
      "cell_type": "code",
      "metadata": {
        "id": "u-4O0RrwnBU1"
      },
      "source": [
        "# average for each brand name corresponding to the column to be imputed\n",
        "avgMileageByBrand = new_df_integer.groupby('name').agg(round(mean('mileage') , 2).alias('avgMileage'))\n",
        "avgEngineByBrand = new_df_integer.groupby('name').agg(round(mean('engine')).alias('avgEngine'))\n",
        "avgMaxPowerByBrand = new_df_integer.groupby('name').agg(round(mean('max_power') , 2).alias('avgMaxPower'))\n",
        "avgSeatsByBrand = new_df_integer.groupby('name').agg(round(mean('seats')).alias('avgSeats'))\n",
        "avgTorqueByBrand = new_df_integer.groupby('name').agg(round(mean('torque')).alias('avgTorque'))"
      ],
      "execution_count": null,
      "outputs": []
    },
    {
      "cell_type": "code",
      "metadata": {
        "id": "e8fLoQ6TMFZy"
      },
      "source": [
        "# joining the above created average dataframes to the main dataframe \n",
        "new_df_integer = new_df_integer.join(avgMileageByBrand, on='name')\n",
        "new_df_integer = new_df_integer.join(avgEngineByBrand, on='name')\n",
        "new_df_integer = new_df_integer.join(avgMaxPowerByBrand, on='name')\n",
        "new_df_integer = new_df_integer.join(avgSeatsByBrand, on='name')\n",
        "new_df_integer = new_df_integer.join(avgTorqueByBrand, on='name')"
      ],
      "execution_count": null,
      "outputs": []
    },
    {
      "cell_type": "code",
      "metadata": {
        "id": "387orYr9raee"
      },
      "source": [
        "# using coalesce to replace missing values using the joined average column\n",
        "new_df_integer = new_df_integer.withColumn('imputed_mileage', coalesce('mileage', 'avgMileage'))\n",
        "new_df_integer = new_df_integer.withColumn('imputed_engine', coalesce('engine', 'avgEngine'))\n",
        "new_df_integer = new_df_integer.withColumn('imputed_max_power', coalesce('max_power', 'avgMaxPower'))\n",
        "new_df_integer = new_df_integer.withColumn('imputed_seats', coalesce('seats', 'avgSeats'))\n",
        "new_df_integer = new_df_integer.withColumn('imputed_torque', coalesce('torque', 'avgTorque'))\n",
        "\n",
        "new_df_integer = new_df_integer.drop('avgMileage','avgEngine','avgMaxPower','avgSeats','avgTorque','mileage','engine','max_power','torque','seats')"
      ],
      "execution_count": null,
      "outputs": []
    },
    {
      "cell_type": "code",
      "metadata": {
        "colab": {
          "base_uri": "https://localhost:8080/"
        },
        "id": "AvUSmjb2xDix",
        "outputId": "9f42e9f0-4b41-4534-c3bb-467d49bc785f"
      },
      "source": [
        "#rounding few columns\n",
        "new_df_integer = new_df_integer.withColumn('imputed_mileage',round('imputed_mileage', 2))\\\n",
        "                                .withColumn('imputed_max_power', round('imputed_max_power',2))\\\n",
        "                                .withColumn('imputed_torque', round('imputed_torque',2))\n",
        "new_df_integer.show(5)"
      ],
      "execution_count": null,
      "outputs": [
        {
          "output_type": "stream",
          "text": [
            "+-------+-------------+---------+------+-----------+------------+------------+---------+---------------+--------------+-----------------+-------------+--------------+\n",
            "|   name|selling_price|km_driven|  fuel|seller_type|transmission|       owner|num_years|imputed_mileage|imputed_engine|imputed_max_power|imputed_seats|imputed_torque|\n",
            "+-------+-------------+---------+------+-----------+------------+------------+---------+---------------+--------------+-----------------+-------------+--------------+\n",
            "| Maruti|       450000|   145500|Diesel| Individual|      Manual| First Owner|        7|           23.4|        1248.0|             74.0|          5.0|         190.0|\n",
            "|  Skoda|       370000|   120000|Diesel| Individual|      Manual|Second Owner|        7|          21.14|        1498.0|           103.52|          5.0|         250.0|\n",
            "|  Honda|       158000|   140000|Petrol| Individual|      Manual| Third Owner|       15|           17.7|        1497.0|             78.0|          5.0|          12.7|\n",
            "|Hyundai|       225000|   127000|Diesel| Individual|      Manual| First Owner|       11|           23.0|        1396.0|             90.0|          5.0|          22.4|\n",
            "| Maruti|       130000|   120000|Petrol| Individual|      Manual| First Owner|       14|           16.1|        1298.0|             88.2|          5.0|          11.5|\n",
            "+-------+-------------+---------+------+-----------+------------+------------+---------+---------------+--------------+-----------------+-------------+--------------+\n",
            "only showing top 5 rows\n",
            "\n"
          ],
          "name": "stdout"
        }
      ]
    },
    {
      "cell_type": "code",
      "metadata": {
        "colab": {
          "base_uri": "https://localhost:8080/"
        },
        "id": "DmCYi3MdmMxH",
        "outputId": "dcd1a6f6-50bd-4ee9-e0cd-8d61cd471bf7"
      },
      "source": [
        "# after imputation only one row of data has null value which is actually a car brand with only 1 entry with missing columns from mileage to torque because of which average for that brand came out to be null.\n",
        "new_df_integer.select([count(when(col(c).isNull(), c)).alias(c) for c in new_df_integer.columns]).show()"
      ],
      "execution_count": null,
      "outputs": [
        {
          "output_type": "stream",
          "text": [
            "+----+-------------+---------+----+-----------+------------+-----+---------+---------------+--------------+-----------------+-------------+--------------+\n",
            "|name|selling_price|km_driven|fuel|seller_type|transmission|owner|num_years|imputed_mileage|imputed_engine|imputed_max_power|imputed_seats|imputed_torque|\n",
            "+----+-------------+---------+----+-----------+------------+-----+---------+---------------+--------------+-----------------+-------------+--------------+\n",
            "|   0|            0|        0|   0|          0|           0|    0|        0|              1|             1|                1|            1|             1|\n",
            "+----+-------------+---------+----+-----------+------------+-----+---------+---------------+--------------+-----------------+-------------+--------------+\n",
            "\n"
          ],
          "name": "stdout"
        }
      ]
    },
    {
      "cell_type": "markdown",
      "metadata": {
        "id": "lhO2acIU4S2W"
      },
      "source": [
        "#### Outlier Removal for better results"
      ]
    },
    {
      "cell_type": "code",
      "metadata": {
        "id": "ld7RypkJnWlF"
      },
      "source": [
        "# creating a function to remove outliers\n",
        "def filter_outliers(df, colmn):\n",
        "    q1,q3 = df.approxQuantile(colmn,[0.25,0.75],0.001) # declaring percentiles for q1 and q3\n",
        "    lower_bound = q1 - (q3-q1)*3 # actual formula is q1-(q3-q1)*1.5 but it would result in loss of huge number of rows\n",
        "    upper_bound = q3 + (q3-q1)*6 # same as above\n",
        "    df = df.filter((df[colmn]>=lower_bound) & (df[colmn]<=upper_bound)) # filtering based on lower bound and upper bound values\n",
        "    return df"
      ],
      "execution_count": null,
      "outputs": []
    },
    {
      "cell_type": "code",
      "metadata": {
        "colab": {
          "base_uri": "https://localhost:8080/"
        },
        "id": "GDFff9HWzLKX",
        "outputId": "7e724122-fd68-41ee-fbf0-40e3b6e1dd4d"
      },
      "source": [
        "#before removing outliers\n",
        "new_df_integer.select(['imputed_mileage','imputed_engine','imputed_max_power','imputed_torque','imputed_seats']).describe().show()"
      ],
      "execution_count": null,
      "outputs": [
        {
          "output_type": "stream",
          "text": [
            "+-------+-----------------+------------------+-----------------+------------------+------------------+\n",
            "|summary|  imputed_mileage|    imputed_engine|imputed_max_power|    imputed_torque|     imputed_seats|\n",
            "+-------+-----------------+------------------+-----------------+------------------+------------------+\n",
            "|  count|             8127|              8127|             8127|              8127|              8127|\n",
            "|   mean|19.41686723268112|1458.6098191214471|91.48425987449174|168.01285591239048| 5.413313645871785|\n",
            "| stddev|4.001466486649435| 502.0660817536921|35.39817510971568|  96.2852009276265|0.9514862309505531|\n",
            "|    min|              0.0|             624.0|             32.8|               4.8|               2.0|\n",
            "|    max|             42.0|            3604.0|            400.0|             789.0|              14.0|\n",
            "+-------+-----------------+------------------+-----------------+------------------+------------------+\n",
            "\n"
          ],
          "name": "stdout"
        }
      ]
    },
    {
      "cell_type": "code",
      "metadata": {
        "id": "bC0tkYIZncC5"
      },
      "source": [
        "#removing outliers\n",
        "df_without_outlier = filter_outliers(new_df_integer, 'imputed_mileage')\n",
        "df_without_outlier = filter_outliers(df_without_outlier, 'imputed_seats')\n",
        "df_without_outlier = filter_outliers(df_without_outlier, 'imputed_engine')\n",
        "df_without_outlier = filter_outliers(df_without_outlier, 'imputed_max_power')"
      ],
      "execution_count": null,
      "outputs": []
    },
    {
      "cell_type": "code",
      "metadata": {
        "colab": {
          "base_uri": "https://localhost:8080/"
        },
        "id": "0QGsT88eoEkh",
        "outputId": "49c155fc-986e-48b6-9505-ba89bc75b7d0"
      },
      "source": [
        "#after removing outliers\n",
        "df_without_outlier.select(['imputed_mileage','imputed_engine','imputed_max_power','imputed_torque','imputed_seats']).describe().show()"
      ],
      "execution_count": null,
      "outputs": [
        {
          "output_type": "stream",
          "text": [
            "+-------+------------------+------------------+-----------------+------------------+-------------+\n",
            "|summary|   imputed_mileage|    imputed_engine|imputed_max_power|    imputed_torque|imputed_seats|\n",
            "+-------+------------------+------------------+-----------------+------------------+-------------+\n",
            "|  count|              6387|              6387|             6387|              6387|         6387|\n",
            "|   mean|20.449699389384424|1307.0831376232973|87.67088304368134|152.76508532957592|          5.0|\n",
            "| stddev|3.3733729377218094|320.79340327931146|31.79191223849369| 84.65307678785562|          0.0|\n",
            "|    min|               9.0|             793.0|             32.8|               5.7|          5.0|\n",
            "|    max|              33.0|            2997.0|            235.0|             789.0|          5.0|\n",
            "+-------+------------------+------------------+-----------------+------------------+-------------+\n",
            "\n"
          ],
          "name": "stdout"
        }
      ]
    },
    {
      "cell_type": "code",
      "metadata": {
        "colab": {
          "base_uri": "https://localhost:8080/"
        },
        "id": "zrncsCh1zrKU",
        "outputId": "0cf70931-c99e-4659-b6c3-23706516622f"
      },
      "source": [
        "# converting categorical data to numerical\n",
        "stringIndexer  = StringIndexer(inputCols=['name','fuel','seller_type','transmission','owner'], outputCols=['catName','catFuel','catSellerType','catTransmission','catOwner']) \n",
        "indexedDataset = stringIndexer.fit(df_without_outlier).transform(df_without_outlier)\n",
        "indexedDataset.show(5)"
      ],
      "execution_count": null,
      "outputs": [
        {
          "output_type": "stream",
          "text": [
            "+-------+-------------+---------+------+-----------+------------+------------+---------+---------------+--------------+-----------------+-------------+--------------+--------+-------------+-------+---------------+-------+\n",
            "|   name|selling_price|km_driven|  fuel|seller_type|transmission|       owner|num_years|imputed_mileage|imputed_engine|imputed_max_power|imputed_seats|imputed_torque|catOwner|catSellerType|catName|catTransmission|catFuel|\n",
            "+-------+-------------+---------+------+-----------+------------+------------+---------+---------------+--------------+-----------------+-------------+--------------+--------+-------------+-------+---------------+-------+\n",
            "| Maruti|       450000|   145500|Diesel| Individual|      Manual| First Owner|        7|           23.4|        1248.0|             74.0|          5.0|         190.0|     0.0|          0.0|    0.0|            0.0|    1.0|\n",
            "|  Skoda|       370000|   120000|Diesel| Individual|      Manual|Second Owner|        7|          21.14|        1498.0|           103.52|          5.0|         250.0|     1.0|          0.0|   10.0|            0.0|    1.0|\n",
            "|  Honda|       158000|   140000|Petrol| Individual|      Manual| Third Owner|       15|           17.7|        1497.0|             78.0|          5.0|          12.7|     2.0|          0.0|    3.0|            0.0|    0.0|\n",
            "|Hyundai|       225000|   127000|Diesel| Individual|      Manual| First Owner|       11|           23.0|        1396.0|             90.0|          5.0|          22.4|     0.0|          0.0|    1.0|            0.0|    1.0|\n",
            "| Maruti|       130000|   120000|Petrol| Individual|      Manual| First Owner|       14|           16.1|        1298.0|             88.2|          5.0|          11.5|     0.0|          0.0|    0.0|            0.0|    0.0|\n",
            "+-------+-------------+---------+------+-----------+------------+------------+---------+---------------+--------------+-----------------+-------------+--------------+--------+-------------+-------+---------------+-------+\n",
            "only showing top 5 rows\n",
            "\n"
          ],
          "name": "stdout"
        }
      ]
    },
    {
      "cell_type": "code",
      "metadata": {
        "id": "VZfaa37GH0D8"
      },
      "source": [
        "#columns to be used in vector assembler\n",
        "dfCols = ['catName','num_years','km_driven','catFuel','catSellerType','catTransmission','catOwner','imputed_mileage','imputed_engine','imputed_max_power','imputed_torque','imputed_seats']"
      ],
      "execution_count": null,
      "outputs": []
    },
    {
      "cell_type": "code",
      "metadata": {
        "colab": {
          "base_uri": "https://localhost:8080/"
        },
        "id": "SfudsCaV3m7G",
        "outputId": "8d3bdd85-9eb9-4682-c093-19aa0b178e9d"
      },
      "source": [
        "# vector assembler\n",
        "assembler = VectorAssembler(inputCols = dfCols, outputCol = 'features')\n",
        "output = assembler.transform(indexedDataset)\n",
        "feature_dataframe = output.select(\"features\",'selling_price')\n",
        "feature_dataframe.show(5)"
      ],
      "execution_count": null,
      "outputs": [
        {
          "output_type": "stream",
          "text": [
            "+--------------------+-------------+\n",
            "|            features|selling_price|\n",
            "+--------------------+-------------+\n",
            "|[0.0,7.0,145500.0...|       450000|\n",
            "|[10.0,7.0,120000....|       370000|\n",
            "|[3.0,15.0,140000....|       158000|\n",
            "|[1.0,11.0,127000....|       225000|\n",
            "|[0.0,14.0,120000....|       130000|\n",
            "+--------------------+-------------+\n",
            "only showing top 5 rows\n",
            "\n"
          ],
          "name": "stdout"
        }
      ]
    },
    {
      "cell_type": "code",
      "metadata": {
        "colab": {
          "base_uri": "https://localhost:8080/"
        },
        "id": "dFdapnUQkUFD",
        "outputId": "049e6f75-e9c2-493c-830c-62a9f41e295e"
      },
      "source": [
        "#Standadization of the features column\n",
        "scaler = StandardScaler(inputCol=\"features\", outputCol=\"scaledFeatures\", withStd=True, withMean=True)\n",
        "\n",
        "scalerModel = scaler.fit(feature_dataframe)\n",
        "scaledData = scalerModel.transform(feature_dataframe)\n",
        "scaledData.show(5)"
      ],
      "execution_count": null,
      "outputs": [
        {
          "output_type": "stream",
          "text": [
            "+--------------------+-------------+--------------------+\n",
            "|            features|selling_price|      scaledFeatures|\n",
            "+--------------------+-------------+--------------------+\n",
            "|[0.0,7.0,145500.0...|       450000|[-0.7016970859979...|\n",
            "|[10.0,7.0,120000....|       370000|[1.54681750775526...|\n",
            "|[3.0,15.0,140000....|       158000|[-0.0271427078719...|\n",
            "|[1.0,11.0,127000....|       225000|[-0.4768456266226...|\n",
            "|[0.0,14.0,120000....|       130000|[-0.7016970859979...|\n",
            "+--------------------+-------------+--------------------+\n",
            "only showing top 5 rows\n",
            "\n"
          ],
          "name": "stdout"
        }
      ]
    },
    {
      "cell_type": "code",
      "metadata": {
        "colab": {
          "base_uri": "https://localhost:8080/"
        },
        "id": "YcDM_xhltxz-",
        "outputId": "0328e3ef-6465-4888-bfba-e64ec4411f57"
      },
      "source": [
        "#splitting the standardized data into 80:20 ratio for training and testing\n",
        "train_data,test_data = scaledData.randomSplit([0.80,0.20])\n",
        "\n",
        "# linear regression model\n",
        "regressor = LinearRegression(featuresCol = 'scaledFeatures', labelCol = 'selling_price')\n",
        "\n",
        "# learn model \n",
        "regressor = regressor.fit(train_data)\n",
        "\n",
        "#predict and evaluate on testdata\n",
        "pred = regressor.evaluate(test_data)\n",
        "\n",
        "pred.predictions.show(10)"
      ],
      "execution_count": null,
      "outputs": [
        {
          "output_type": "stream",
          "text": [
            "+--------------------+-------------+--------------------+------------------+\n",
            "|            features|selling_price|      scaledFeatures|        prediction|\n",
            "+--------------------+-------------+--------------------+------------------+\n",
            "|[0.0,1.0,1000.0,0...|       654000|[-0.7016970859979...| 939304.3242026168|\n",
            "|[0.0,1.0,1500.0,0...|       730000|[-0.7016970859979...| 594298.9822846572|\n",
            "|[0.0,1.0,5000.0,0...|       630000|[-0.7016970859979...| 587605.7703828275|\n",
            "|[0.0,1.0,16000.0,...|       370000|[-0.7016970859979...| 547857.1521283562|\n",
            "|[0.0,1.0,20000.0,...|       700000|[-0.7016970859979...| 752268.6303282027|\n",
            "|[0.0,2.0,5000.0,0...|       675000|[-0.7016970859979...| 561892.6704852635|\n",
            "|[0.0,2.0,5000.0,0...|       540000|[-0.7016970859979...| 893407.0025349311|\n",
            "|[0.0,2.0,5621.0,0...|       650000|[-0.7016970859979...|1106751.7669317108|\n",
            "|[0.0,2.0,5621.0,0...|       650000|[-0.7016970859979...|1106751.7669317108|\n",
            "|[0.0,2.0,5621.0,0...|       650000|[-0.7016970859979...|1106751.7669317108|\n",
            "+--------------------+-------------+--------------------+------------------+\n",
            "only showing top 10 rows\n",
            "\n"
          ],
          "name": "stdout"
        }
      ]
    },
    {
      "cell_type": "code",
      "metadata": {
        "colab": {
          "base_uri": "https://localhost:8080/"
        },
        "id": "T5yvUxFDuEqd",
        "outputId": "8fd91a37-43e9-4318-a25c-2199e39e0265"
      },
      "source": [
        "#coefficient of the regression model\n",
        "coeff = regressor.coefficients\n",
        "\n",
        "#X and Y intercept\n",
        "intr = regressor.intercept\n",
        "\n",
        "print (\"The coefficient of the model is : %a\" %coeff)\n",
        "print (\"The Intercept of the model is : %f\" %intr)\n"
      ],
      "execution_count": null,
      "outputs": [
        {
          "output_type": "stream",
          "text": [
            "The coefficient of the model is : DenseVector([102638.0798, -116301.792, -43133.2881, 51443.1467, 44964.1361, 118948.8134, 15208.6954, 63929.3204, -211494.5517, 638040.4351, 32997.4028, 0.0])\n",
            "The Intercept of the model is : 606634.388699\n"
          ],
          "name": "stdout"
        }
      ]
    },
    {
      "cell_type": "code",
      "metadata": {
        "colab": {
          "base_uri": "https://localhost:8080/"
        },
        "id": "DhXIH8LFuY2d",
        "outputId": "1975e485-84ee-42c9-8b46-42e589b44bb0"
      },
      "source": [
        "eval = RegressionEvaluator(labelCol=\"selling_price\", predictionCol=\"prediction\", metricName=\"rmse\")\n",
        "\n",
        "# Root Mean Square Error\n",
        "rmse = eval.evaluate(pred.predictions)\n",
        "print(f'RMSE : {rmse:.3f}')\n",
        "\n",
        "# Mean Square Error\n",
        "mse = eval.evaluate(pred.predictions, {eval.metricName: \"mse\"})\n",
        "print(f'MSE : {mse:.3f}')\n",
        "\n",
        "# Mean Absolute Error\n",
        "mae = eval.evaluate(pred.predictions, {eval.metricName: \"mae\"})\n",
        "print(f'MAE : {mae:.3f}')\n",
        "\n",
        "# r2 - coefficient of determination\n",
        "r2 = eval.evaluate(pred.predictions, {eval.metricName: \"r2\"})\n",
        "print(f'r2 : {r2:.3f}')"
      ],
      "execution_count": null,
      "outputs": [
        {
          "output_type": "stream",
          "text": [
            "RMSE : 453444.148\n",
            "MSE : 205611594914.906\n",
            "MAE : 263405.342\n",
            "r2 : 0.697\n"
          ],
          "name": "stdout"
        }
      ]
    },
    {
      "cell_type": "markdown",
      "metadata": {
        "id": "KBSh0EGN5wMm"
      },
      "source": [
        "#### Without Standardization of the features column"
      ]
    },
    {
      "cell_type": "code",
      "metadata": {
        "colab": {
          "base_uri": "https://localhost:8080/"
        },
        "id": "0Q6PownNlbv4",
        "outputId": "565d29b3-5a7e-4323-9e31-3d9e71233e0c"
      },
      "source": [
        "# features dataframe without standardization\n",
        "feature_dataframe.show(10)"
      ],
      "execution_count": null,
      "outputs": [
        {
          "output_type": "stream",
          "text": [
            "+--------------------+-------------+\n",
            "|            features|selling_price|\n",
            "+--------------------+-------------+\n",
            "|[0.0,7.0,145500.0...|       450000|\n",
            "|[10.0,7.0,120000....|       370000|\n",
            "|[3.0,15.0,140000....|       158000|\n",
            "|[1.0,11.0,127000....|       225000|\n",
            "|[0.0,14.0,120000....|       130000|\n",
            "|[1.0,4.0,45000.0,...|       440000|\n",
            "|[0.0,14.0,175000....|        96000|\n",
            "|[8.0,10.0,90000.0...|       350000|\n",
            "|[4.0,8.0,169000.0...|       200000|\n",
            "|[5.0,7.0,68000.0,...|       500000|\n",
            "+--------------------+-------------+\n",
            "only showing top 10 rows\n",
            "\n"
          ],
          "name": "stdout"
        }
      ]
    },
    {
      "cell_type": "code",
      "metadata": {
        "colab": {
          "base_uri": "https://localhost:8080/"
        },
        "id": "Dge8rWQqurj0",
        "outputId": "0ce7cc4d-bc5f-4c6e-a1b1-42c0f811e5d4"
      },
      "source": [
        "#splitting the non-standardized data into 80:20 ratio for training and testing\n",
        "train_data,test_data = feature_dataframe.randomSplit([0.8,0.2])\n",
        "\n",
        "# linear regression model\n",
        "regressor = LinearRegression(featuresCol = 'features', labelCol = 'selling_price')\n",
        "\n",
        "# learn model \n",
        "regressor = regressor.fit(train_data)\n",
        "\n",
        "#predict and evaluate on testdata\n",
        "pred = regressor.evaluate(test_data)\n",
        "\n",
        "pred.predictions.show(10)"
      ],
      "execution_count": null,
      "outputs": [
        {
          "output_type": "stream",
          "text": [
            "+--------------------+-------------+------------------+\n",
            "|            features|selling_price|        prediction|\n",
            "+--------------------+-------------+------------------+\n",
            "|[0.0,1.0,1000.0,0...|       445000| 591420.1809926161|\n",
            "|[0.0,1.0,1000.0,0...|       445000| 591420.1809926161|\n",
            "|[0.0,1.0,5000.0,2...|       399000| 392616.9053684158|\n",
            "|[0.0,1.0,13000.0,...|       475000|420264.58008255885|\n",
            "|[0.0,1.0,15000.0,...|       370000|160828.29293910175|\n",
            "|[0.0,1.0,20000.0,...|       700000| 736262.6075484161|\n",
            "|[0.0,1.0,70000.0,...|       580000| 694295.5069488916|\n",
            "|[0.0,2.0,3000.0,0...|       760000| 557214.3272356153|\n",
            "|[0.0,2.0,5000.0,0...|       675000| 558094.1343081724|\n",
            "|[0.0,2.0,5000.0,0...|       711000| 587816.0485835006|\n",
            "+--------------------+-------------+------------------+\n",
            "only showing top 10 rows\n",
            "\n"
          ],
          "name": "stdout"
        }
      ]
    },
    {
      "cell_type": "code",
      "metadata": {
        "colab": {
          "base_uri": "https://localhost:8080/"
        },
        "id": "PMLa8mswzcEb",
        "outputId": "d8f250a0-1fd7-4ca0-d34f-2bc50b014a62"
      },
      "source": [
        "#coefficient of the regression model\n",
        "coeff = regressor.coefficients\n",
        "\n",
        "#X and Y intercept\n",
        "intr = regressor.intercept\n",
        "\n",
        "print (\"The coefficient of the model is : %a\" %coeff)\n",
        "print (\"The Intercept of the model is : %f\" %intr)"
      ],
      "execution_count": null,
      "outputs": [
        {
          "output_type": "stream",
          "text": [
            "The coefficient of the model is : DenseVector([22570.5707, -29968.6786, -0.8393, 107366.6524, 102030.2805, 350433.9491, 14069.6771, 12792.4555, -721.4982, 20084.3867, 590.8225, 0.0])\n",
            "The Intercept of the model is : -495132.236358\n"
          ],
          "name": "stdout"
        }
      ]
    },
    {
      "cell_type": "code",
      "metadata": {
        "colab": {
          "base_uri": "https://localhost:8080/"
        },
        "id": "LyYRE5v-zfDI",
        "outputId": "95f404e2-2545-4dfa-d594-a3b453d6a7d3"
      },
      "source": [
        "eval = RegressionEvaluator(labelCol=\"selling_price\", predictionCol=\"prediction\", metricName=\"rmse\")\n",
        "\n",
        "# Root Mean Square Error\n",
        "rmse = eval.evaluate(pred.predictions)\n",
        "print(f'RMSE : {rmse:.3f}')\n",
        "\n",
        "# Mean Square Error\n",
        "mse = eval.evaluate(pred.predictions, {eval.metricName: \"mse\"})\n",
        "print(f'MSE : {mse:.3f}')\n",
        "\n",
        "# Mean Absolute Error\n",
        "mae = eval.evaluate(pred.predictions, {eval.metricName: \"mae\"})\n",
        "print(f'MAE : {mae:.3f}')\n",
        "\n",
        "# r2 - coefficient of determination\n",
        "r2 = eval.evaluate(pred.predictions, {eval.metricName: \"r2\"})\n",
        "print(f'r2 : {r2:.3f}')"
      ],
      "execution_count": null,
      "outputs": [
        {
          "output_type": "stream",
          "text": [
            "RMSE : 427859.435\n",
            "MSE : 183063696189.960\n",
            "MAE : 261860.673\n",
            "r2 : 0.721\n"
          ],
          "name": "stdout"
        }
      ]
    },
    {
      "cell_type": "code",
      "metadata": {
        "id": "xzSSe-8D6F5s"
      },
      "source": [
        ""
      ],
      "execution_count": null,
      "outputs": []
    },
    {
      "cell_type": "markdown",
      "metadata": {
        "id": "iDY75VuF6HTn"
      },
      "source": [
        "From the above results it seems the results for non-standardized data are better than the standardized data.\n",
        "But in general cases standardized data have better results as the spectrum of the data lies between -1 and 1 which will then help to keep the coefficients of the feature variables to remain unbiased while fitting the model."
      ]
    },
    {
      "cell_type": "code",
      "metadata": {
        "id": "WSqpY0Kk7CDV"
      },
      "source": [
        ""
      ],
      "execution_count": null,
      "outputs": []
    }
  ]
}